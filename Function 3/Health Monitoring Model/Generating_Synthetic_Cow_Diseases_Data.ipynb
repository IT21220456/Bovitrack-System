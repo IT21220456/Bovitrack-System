{
 "cells": [
  {
   "cell_type": "code",
   "execution_count": 6,
   "id": "f2457e19",
   "metadata": {},
   "outputs": [
    {
     "name": "stdout",
     "output_type": "stream",
     "text": [
      "   temperature  blood_pressure  blood_oxygen              disease\n",
      "0    39.435426       97.474845     87.534877  Respiratory Disease\n",
      "1    37.061308       69.631068     89.559155    Circulatory Shock\n",
      "2    36.139867       63.219110     90.875190    Circulatory Shock\n",
      "3    37.525368       72.426094     93.132571           Milk Fever\n",
      "4    36.609079       78.226925     94.713761           Milk Fever\n"
     ]
    }
   ],
   "source": [
    "import numpy as np\n",
    "import pandas as pd\n",
    "\n",
    "np.random.seed(42)\n",
    "\n",
    "n_samples = 1000\n",
    "\n",
    "disease_profiles = {\n",
    "    'Healthy': {\n",
    "        'temperature': (37.5, 39.0),\n",
    "        'blood_pressure': (100, 120),\n",
    "        'blood_oxygen': (95, 100)\n",
    "    },\n",
    "    'Mastitis': {\n",
    "        'temperature': (39.5, 41.0),\n",
    "        'blood_pressure': (90, 110),\n",
    "        'blood_oxygen': (92, 98)\n",
    "    },\n",
    "    'Heat Stress': {\n",
    "        'temperature': (40.0, 42.0),\n",
    "        'blood_pressure': (80, 100),\n",
    "        'blood_oxygen': (90, 96)\n",
    "    },\n",
    "    'Respiratory Disease': {\n",
    "        'temperature': (39.0, 40.5),\n",
    "        'blood_pressure': (85, 105),\n",
    "        'blood_oxygen': (85, 94)\n",
    "    },\n",
    "    'Milk Fever': {\n",
    "        'temperature': (36.5, 38.5),\n",
    "        'blood_pressure': (70, 90),\n",
    "        'blood_oxygen': (90, 96)\n",
    "    },\n",
    "    'Circulatory Shock': {\n",
    "        'temperature': (36.0, 37.5),\n",
    "        'blood_pressure': (60, 80),\n",
    "        'blood_oxygen': (80, 92)\n",
    "    }\n",
    "}\n",
    "\n",
    "data = []\n",
    "\n",
    "for disease, ranges in disease_profiles.items():\n",
    "    temperature = np.random.uniform(ranges['temperature'][0], ranges['temperature'][1], n_samples)\n",
    "    blood_pressure = np.random.uniform(ranges['blood_pressure'][0], ranges['blood_pressure'][1], n_samples)\n",
    "    blood_oxygen = np.random.uniform(ranges['blood_oxygen'][0], ranges['blood_oxygen'][1], n_samples)\n",
    "\n",
    "    disease_data = pd.DataFrame({\n",
    "        'temperature': temperature,\n",
    "        'blood_pressure': blood_pressure,\n",
    "        'blood_oxygen': blood_oxygen,\n",
    "        'disease': disease\n",
    "    })\n",
    "    \n",
    "    data.append(disease_data)\n",
    "\n",
    "synthetic_data = pd.concat(data, ignore_index=True)\n",
    "\n",
    "synthetic_data = synthetic_data.sample(frac=1).reset_index(drop=True)\n",
    "\n",
    "print(synthetic_data.head())\n",
    "\n",
    "synthetic_data.to_csv('synthetic_cow_health_data.csv', index=False)\n",
    "\n",
    "df = synthetic_data\n"
   ]
  },
  {
   "cell_type": "code",
   "execution_count": 7,
   "id": "5c18656c",
   "metadata": {},
   "outputs": [
    {
     "data": {
      "text/html": [
       "<div>\n",
       "<style scoped>\n",
       "    .dataframe tbody tr th:only-of-type {\n",
       "        vertical-align: middle;\n",
       "    }\n",
       "\n",
       "    .dataframe tbody tr th {\n",
       "        vertical-align: top;\n",
       "    }\n",
       "\n",
       "    .dataframe thead th {\n",
       "        text-align: right;\n",
       "    }\n",
       "</style>\n",
       "<table border=\"1\" class=\"dataframe\">\n",
       "  <thead>\n",
       "    <tr style=\"text-align: right;\">\n",
       "      <th></th>\n",
       "      <th>temperature</th>\n",
       "      <th>blood_pressure</th>\n",
       "      <th>blood_oxygen</th>\n",
       "    </tr>\n",
       "  </thead>\n",
       "  <tbody>\n",
       "    <tr>\n",
       "      <th>count</th>\n",
       "      <td>6000.000000</td>\n",
       "      <td>6000.000000</td>\n",
       "      <td>6000.000000</td>\n",
       "    </tr>\n",
       "    <tr>\n",
       "      <th>mean</th>\n",
       "      <td>38.905679</td>\n",
       "      <td>90.816445</td>\n",
       "      <td>92.351483</td>\n",
       "    </tr>\n",
       "    <tr>\n",
       "      <th>std</th>\n",
       "      <td>1.600171</td>\n",
       "      <td>14.251091</td>\n",
       "      <td>4.295485</td>\n",
       "    </tr>\n",
       "    <tr>\n",
       "      <th>min</th>\n",
       "      <td>36.000465</td>\n",
       "      <td>60.005049</td>\n",
       "      <td>80.010244</td>\n",
       "    </tr>\n",
       "    <tr>\n",
       "      <th>25%</th>\n",
       "      <td>37.494107</td>\n",
       "      <td>79.867014</td>\n",
       "      <td>90.205143</td>\n",
       "    </tr>\n",
       "    <tr>\n",
       "      <th>50%</th>\n",
       "      <td>38.999828</td>\n",
       "      <td>91.552332</td>\n",
       "      <td>92.890236</td>\n",
       "    </tr>\n",
       "    <tr>\n",
       "      <th>75%</th>\n",
       "      <td>40.253667</td>\n",
       "      <td>101.656368</td>\n",
       "      <td>95.444415</td>\n",
       "    </tr>\n",
       "    <tr>\n",
       "      <th>max</th>\n",
       "      <td>41.998921</td>\n",
       "      <td>119.988275</td>\n",
       "      <td>99.989104</td>\n",
       "    </tr>\n",
       "  </tbody>\n",
       "</table>\n",
       "</div>"
      ],
      "text/plain": [
       "       temperature  blood_pressure  blood_oxygen\n",
       "count  6000.000000     6000.000000   6000.000000\n",
       "mean     38.905679       90.816445     92.351483\n",
       "std       1.600171       14.251091      4.295485\n",
       "min      36.000465       60.005049     80.010244\n",
       "25%      37.494107       79.867014     90.205143\n",
       "50%      38.999828       91.552332     92.890236\n",
       "75%      40.253667      101.656368     95.444415\n",
       "max      41.998921      119.988275     99.989104"
      ]
     },
     "execution_count": 7,
     "metadata": {},
     "output_type": "execute_result"
    }
   ],
   "source": [
    "df.describe()"
   ]
  },
  {
   "cell_type": "code",
   "execution_count": 8,
   "id": "39c8674a",
   "metadata": {},
   "outputs": [
    {
     "data": {
      "text/plain": [
       "Respiratory Disease    1000\n",
       "Circulatory Shock      1000\n",
       "Milk Fever             1000\n",
       "Heat Stress            1000\n",
       "Mastitis               1000\n",
       "Healthy                1000\n",
       "Name: disease, dtype: int64"
      ]
     },
     "execution_count": 8,
     "metadata": {},
     "output_type": "execute_result"
    }
   ],
   "source": [
    "synthetic_data['disease'].value_counts()"
   ]
  },
  {
   "cell_type": "code",
   "execution_count": null,
   "id": "42c33c49",
   "metadata": {},
   "outputs": [],
   "source": []
  }
 ],
 "metadata": {
  "kernelspec": {
   "display_name": "Python 3 (ipykernel)",
   "language": "python",
   "name": "python3"
  },
  "language_info": {
   "codemirror_mode": {
    "name": "ipython",
    "version": 3
   },
   "file_extension": ".py",
   "mimetype": "text/x-python",
   "name": "python",
   "nbconvert_exporter": "python",
   "pygments_lexer": "ipython3",
   "version": "3.9.12"
  }
 },
 "nbformat": 4,
 "nbformat_minor": 5
}
