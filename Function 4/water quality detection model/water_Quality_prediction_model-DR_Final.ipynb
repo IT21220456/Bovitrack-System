{
 "cells": [
  {
   "cell_type": "code",
   "execution_count": 2,
   "id": "3681f65f",
   "metadata": {},
   "outputs": [
    {
     "name": "stderr",
     "output_type": "stream",
     "text": [
      "C:\\Users\\damindu pahasara\\anaconda3\\lib\\site-packages\\pandas\\core\\computation\\expressions.py:21: UserWarning: Pandas requires version '2.8.4' or newer of 'numexpr' (version '2.8.1' currently installed).\n",
      "  from pandas.core.computation.check import NUMEXPR_INSTALLED\n",
      "C:\\Users\\damindu pahasara\\anaconda3\\lib\\site-packages\\pandas\\core\\arrays\\masked.py:60: UserWarning: Pandas requires version '1.3.6' or newer of 'bottleneck' (version '1.3.4' currently installed).\n",
      "  from pandas.core import (\n"
     ]
    }
   ],
   "source": [
    "import pandas as pd\n",
    "import numpy as np\n",
    "from sklearn.model_selection import train_test_split\n",
    "from sklearn.preprocessing import LabelEncoder\n",
    "from xgboost import XGBClassifier\n",
    "from sklearn.linear_model import LogisticRegression\n",
    "from sklearn.tree import DecisionTreeClassifier\n",
    "from sklearn.ensemble import RandomForestClassifier\n",
    "from sklearn.svm import SVC\n",
    "from sklearn.neighbors import KNeighborsClassifier\n",
    "from sklearn.metrics import classification_report, accuracy_score, confusion_matrix\n",
    "import pickle"
   ]
  },
  {
   "cell_type": "code",
   "execution_count": 5,
   "id": "ae915014",
   "metadata": {},
   "outputs": [],
   "source": [
    "data = pd.read_csv('cow_water_quality_dataset_with_patterns_DR.csv')"
   ]
  },
  {
   "cell_type": "code",
   "execution_count": 6,
   "id": "c98558be",
   "metadata": {},
   "outputs": [
    {
     "data": {
      "text/html": [
       "<div>\n",
       "<style scoped>\n",
       "    .dataframe tbody tr th:only-of-type {\n",
       "        vertical-align: middle;\n",
       "    }\n",
       "\n",
       "    .dataframe tbody tr th {\n",
       "        vertical-align: top;\n",
       "    }\n",
       "\n",
       "    .dataframe thead th {\n",
       "        text-align: right;\n",
       "    }\n",
       "</style>\n",
       "<table border=\"1\" class=\"dataframe\">\n",
       "  <thead>\n",
       "    <tr style=\"text-align: right;\">\n",
       "      <th></th>\n",
       "      <th>pH</th>\n",
       "      <th>TDS</th>\n",
       "      <th>Temperature</th>\n",
       "      <th>suitable</th>\n",
       "    </tr>\n",
       "  </thead>\n",
       "  <tbody>\n",
       "    <tr>\n",
       "      <th>0</th>\n",
       "      <td>6.515173</td>\n",
       "      <td>3151.620797</td>\n",
       "      <td>22.766013</td>\n",
       "      <td>0</td>\n",
       "    </tr>\n",
       "    <tr>\n",
       "      <th>1</th>\n",
       "      <td>8.591503</td>\n",
       "      <td>1872.212803</td>\n",
       "      <td>6.553427</td>\n",
       "      <td>0</td>\n",
       "    </tr>\n",
       "    <tr>\n",
       "      <th>2</th>\n",
       "      <td>6.708148</td>\n",
       "      <td>3340.924030</td>\n",
       "      <td>31.627430</td>\n",
       "      <td>0</td>\n",
       "    </tr>\n",
       "    <tr>\n",
       "      <th>3</th>\n",
       "      <td>8.133186</td>\n",
       "      <td>2392.626027</td>\n",
       "      <td>26.592238</td>\n",
       "      <td>1</td>\n",
       "    </tr>\n",
       "    <tr>\n",
       "      <th>4</th>\n",
       "      <td>8.055588</td>\n",
       "      <td>1388.700100</td>\n",
       "      <td>9.371154</td>\n",
       "      <td>0</td>\n",
       "    </tr>\n",
       "  </tbody>\n",
       "</table>\n",
       "</div>"
      ],
      "text/plain": [
       "         pH          TDS  Temperature  suitable\n",
       "0  6.515173  3151.620797    22.766013         0\n",
       "1  8.591503  1872.212803     6.553427         0\n",
       "2  6.708148  3340.924030    31.627430         0\n",
       "3  8.133186  2392.626027    26.592238         1\n",
       "4  8.055588  1388.700100     9.371154         0"
      ]
     },
     "execution_count": 6,
     "metadata": {},
     "output_type": "execute_result"
    }
   ],
   "source": [
    "data.head()"
   ]
  },
  {
   "cell_type": "code",
   "execution_count": 7,
   "id": "716a4167",
   "metadata": {},
   "outputs": [
    {
     "data": {
      "text/plain": [
       "pH             7.051644e+04\n",
       "TDS            2.899846e+07\n",
       "Temperature    2.000184e+05\n",
       "suitable       2.133000e+03\n",
       "dtype: float64"
      ]
     },
     "execution_count": 7,
     "metadata": {},
     "output_type": "execute_result"
    }
   ],
   "source": [
    "data.sum()"
   ]
  },
  {
   "cell_type": "code",
   "execution_count": 8,
   "id": "e22781be",
   "metadata": {},
   "outputs": [
    {
     "data": {
      "text/plain": [
       "pH             10000\n",
       "TDS            10000\n",
       "Temperature    10000\n",
       "suitable       10000\n",
       "dtype: int64"
      ]
     },
     "execution_count": 8,
     "metadata": {},
     "output_type": "execute_result"
    }
   ],
   "source": [
    "data.count()"
   ]
  },
  {
   "cell_type": "code",
   "execution_count": 9,
   "id": "b040ae26",
   "metadata": {},
   "outputs": [
    {
     "name": "stdout",
     "output_type": "stream",
     "text": [
      "<class 'pandas.core.frame.DataFrame'>\n",
      "RangeIndex: 10000 entries, 0 to 9999\n",
      "Data columns (total 4 columns):\n",
      " #   Column       Non-Null Count  Dtype  \n",
      "---  ------       --------------  -----  \n",
      " 0   pH           10000 non-null  float64\n",
      " 1   TDS          10000 non-null  float64\n",
      " 2   Temperature  10000 non-null  float64\n",
      " 3   suitable     10000 non-null  int64  \n",
      "dtypes: float64(3), int64(1)\n",
      "memory usage: 312.6 KB\n"
     ]
    }
   ],
   "source": [
    "data.info()"
   ]
  },
  {
   "cell_type": "code",
   "execution_count": 10,
   "id": "e09c0255",
   "metadata": {},
   "outputs": [
    {
     "data": {
      "text/html": [
       "<div>\n",
       "<style scoped>\n",
       "    .dataframe tbody tr th:only-of-type {\n",
       "        vertical-align: middle;\n",
       "    }\n",
       "\n",
       "    .dataframe tbody tr th {\n",
       "        vertical-align: top;\n",
       "    }\n",
       "\n",
       "    .dataframe thead th {\n",
       "        text-align: right;\n",
       "    }\n",
       "</style>\n",
       "<table border=\"1\" class=\"dataframe\">\n",
       "  <thead>\n",
       "    <tr style=\"text-align: right;\">\n",
       "      <th></th>\n",
       "      <th>pH</th>\n",
       "      <th>TDS</th>\n",
       "      <th>Temperature</th>\n",
       "      <th>suitable</th>\n",
       "    </tr>\n",
       "  </thead>\n",
       "  <tbody>\n",
       "    <tr>\n",
       "      <th>0</th>\n",
       "      <td>6.515173</td>\n",
       "      <td>3151.620797</td>\n",
       "      <td>22.766013</td>\n",
       "      <td>0</td>\n",
       "    </tr>\n",
       "    <tr>\n",
       "      <th>1</th>\n",
       "      <td>8.591503</td>\n",
       "      <td>1872.212803</td>\n",
       "      <td>6.553427</td>\n",
       "      <td>0</td>\n",
       "    </tr>\n",
       "    <tr>\n",
       "      <th>2</th>\n",
       "      <td>6.708148</td>\n",
       "      <td>3340.924030</td>\n",
       "      <td>31.627430</td>\n",
       "      <td>0</td>\n",
       "    </tr>\n",
       "    <tr>\n",
       "      <th>3</th>\n",
       "      <td>8.133186</td>\n",
       "      <td>2392.626027</td>\n",
       "      <td>26.592238</td>\n",
       "      <td>1</td>\n",
       "    </tr>\n",
       "    <tr>\n",
       "      <th>4</th>\n",
       "      <td>8.055588</td>\n",
       "      <td>1388.700100</td>\n",
       "      <td>9.371154</td>\n",
       "      <td>0</td>\n",
       "    </tr>\n",
       "  </tbody>\n",
       "</table>\n",
       "</div>"
      ],
      "text/plain": [
       "         pH          TDS  Temperature  suitable\n",
       "0  6.515173  3151.620797    22.766013         0\n",
       "1  8.591503  1872.212803     6.553427         0\n",
       "2  6.708148  3340.924030    31.627430         0\n",
       "3  8.133186  2392.626027    26.592238         1\n",
       "4  8.055588  1388.700100     9.371154         0"
      ]
     },
     "execution_count": 10,
     "metadata": {},
     "output_type": "execute_result"
    }
   ],
   "source": [
    "data.head()"
   ]
  },
  {
   "cell_type": "code",
   "execution_count": 11,
   "id": "cd6a5245",
   "metadata": {},
   "outputs": [],
   "source": [
    "X = data.drop(['suitable'], axis=1)\n",
    "y = data['suitable']"
   ]
  },
  {
   "cell_type": "code",
   "execution_count": 12,
   "id": "d50d0b83",
   "metadata": {},
   "outputs": [],
   "source": [
    "X_train, X_test, y_train, y_test = train_test_split(X, y, test_size=0.2, random_state=42)"
   ]
  },
  {
   "cell_type": "markdown",
   "id": "38eea335",
   "metadata": {},
   "source": [
    "# Model Training"
   ]
  },
  {
   "cell_type": "code",
   "execution_count": 13,
   "id": "d9f8cc71",
   "metadata": {},
   "outputs": [],
   "source": [
    "models = {\n",
    "    \"Logistic Regression\": LogisticRegression(max_iter=1000),\n",
    "    \"Decision Tree\": DecisionTreeClassifier(),\n",
    "    \"Random Forest\": RandomForestClassifier(),\n",
    "    \"SVM\": SVC(),\n",
    "    \"K-Nearest Neighbors\": KNeighborsClassifier(),\n",
    "    \"XGBoost\": XGBClassifier(use_label_encoder=False, eval_metric='logloss')\n",
    "}"
   ]
  },
  {
   "cell_type": "code",
   "execution_count": 15,
   "id": "8afc7a6b",
   "metadata": {},
   "outputs": [
    {
     "name": "stdout",
     "output_type": "stream",
     "text": [
      "\n",
      "==============================\n",
      "Model: Logistic Regression\n",
      "==============================\n",
      "Accuracy: 0.77\n",
      "\n",
      "Classification Report:\n",
      "              precision    recall  f1-score   support\n",
      "\n",
      "           0       0.82      0.91      0.86      1569\n",
      "           1       0.46      0.29      0.36       431\n",
      "\n",
      "    accuracy                           0.77      2000\n",
      "   macro avg       0.64      0.60      0.61      2000\n",
      "weighted avg       0.75      0.77      0.75      2000\n",
      "\n",
      "\n",
      "Confusion Matrix:\n",
      "[[1420  149]\n",
      " [ 304  127]]\n",
      "\n",
      "\n",
      "\n",
      "==============================\n",
      "Model: Decision Tree\n",
      "==============================\n",
      "Accuracy: 1.00\n",
      "\n",
      "Classification Report:\n",
      "              precision    recall  f1-score   support\n",
      "\n",
      "           0       1.00      1.00      1.00      1569\n",
      "           1       1.00      1.00      1.00       431\n",
      "\n",
      "    accuracy                           1.00      2000\n",
      "   macro avg       1.00      1.00      1.00      2000\n",
      "weighted avg       1.00      1.00      1.00      2000\n",
      "\n",
      "\n",
      "Confusion Matrix:\n",
      "[[1567    2]\n",
      " [   0  431]]\n",
      "\n",
      "\n",
      "\n",
      "==============================\n",
      "Model: Random Forest\n",
      "==============================\n",
      "Accuracy: 1.00\n",
      "\n",
      "Classification Report:\n",
      "              precision    recall  f1-score   support\n",
      "\n",
      "           0       1.00      1.00      1.00      1569\n",
      "           1       1.00      1.00      1.00       431\n",
      "\n",
      "    accuracy                           1.00      2000\n",
      "   macro avg       1.00      1.00      1.00      2000\n",
      "weighted avg       1.00      1.00      1.00      2000\n",
      "\n",
      "\n",
      "Confusion Matrix:\n",
      "[[1569    0]\n",
      " [   1  430]]\n",
      "\n",
      "\n",
      "\n",
      "==============================\n",
      "Model: SVM\n",
      "==============================\n",
      "Accuracy: 0.78\n",
      "\n",
      "Classification Report:\n",
      "              precision    recall  f1-score   support\n",
      "\n",
      "           0       0.78      1.00      0.88      1569\n",
      "           1       0.00      0.00      0.00       431\n",
      "\n",
      "    accuracy                           0.78      2000\n",
      "   macro avg       0.39      0.50      0.44      2000\n",
      "weighted avg       0.62      0.78      0.69      2000\n",
      "\n",
      "\n",
      "Confusion Matrix:\n",
      "[[1569    0]\n",
      " [ 431    0]]\n",
      "\n",
      "\n",
      "\n",
      "==============================\n",
      "Model: K-Nearest Neighbors\n",
      "==============================\n"
     ]
    },
    {
     "name": "stderr",
     "output_type": "stream",
     "text": [
      "C:\\Users\\damindu pahasara\\anaconda3\\lib\\site-packages\\sklearn\\metrics\\_classification.py:1509: UndefinedMetricWarning: Precision is ill-defined and being set to 0.0 in labels with no predicted samples. Use `zero_division` parameter to control this behavior.\n",
      "  _warn_prf(average, modifier, f\"{metric.capitalize()} is\", len(result))\n",
      "C:\\Users\\damindu pahasara\\anaconda3\\lib\\site-packages\\sklearn\\metrics\\_classification.py:1509: UndefinedMetricWarning: Precision is ill-defined and being set to 0.0 in labels with no predicted samples. Use `zero_division` parameter to control this behavior.\n",
      "  _warn_prf(average, modifier, f\"{metric.capitalize()} is\", len(result))\n",
      "C:\\Users\\damindu pahasara\\anaconda3\\lib\\site-packages\\sklearn\\metrics\\_classification.py:1509: UndefinedMetricWarning: Precision is ill-defined and being set to 0.0 in labels with no predicted samples. Use `zero_division` parameter to control this behavior.\n",
      "  _warn_prf(average, modifier, f\"{metric.capitalize()} is\", len(result))\n"
     ]
    },
    {
     "name": "stdout",
     "output_type": "stream",
     "text": [
      "Accuracy: 0.82\n",
      "\n",
      "Classification Report:\n",
      "              precision    recall  f1-score   support\n",
      "\n",
      "           0       0.89      0.88      0.89      1569\n",
      "           1       0.58      0.62      0.60       431\n",
      "\n",
      "    accuracy                           0.82      2000\n",
      "   macro avg       0.74      0.75      0.74      2000\n",
      "weighted avg       0.83      0.82      0.82      2000\n",
      "\n",
      "\n",
      "Confusion Matrix:\n",
      "[[1376  193]\n",
      " [ 162  269]]\n",
      "\n",
      "\n",
      "\n",
      "==============================\n",
      "Model: XGBoost\n",
      "==============================\n",
      "Accuracy: 1.00\n",
      "\n",
      "Classification Report:\n",
      "              precision    recall  f1-score   support\n",
      "\n",
      "           0       1.00      1.00      1.00      1569\n",
      "           1       0.99      1.00      1.00       431\n",
      "\n",
      "    accuracy                           1.00      2000\n",
      "   macro avg       1.00      1.00      1.00      2000\n",
      "weighted avg       1.00      1.00      1.00      2000\n",
      "\n",
      "\n",
      "Confusion Matrix:\n",
      "[[1566    3]\n",
      " [   1  430]]\n",
      "\n",
      "\n"
     ]
    }
   ],
   "source": [
    "from sklearn.metrics import accuracy_score, classification_report, confusion_matrix\n",
    "\n",
    "# Train and evaluate each model separately\n",
    "for name, model in models.items():\n",
    "    print(f\"\\n{'='*30}\")\n",
    "    print(f\"Model: {name}\")\n",
    "    print(f\"{'='*30}\")\n",
    "    \n",
    "    # Train the model\n",
    "    model.fit(X_train, y_train)\n",
    "    \n",
    "    # Make predictions\n",
    "    y_pred = model.predict(X_test)\n",
    "    \n",
    "    # Calculate and print accuracy\n",
    "    accuracy = accuracy_score(y_test, y_pred)\n",
    "    print(f\"Accuracy: {accuracy:.2f}\")\n",
    "    \n",
    "    # Print classification report\n",
    "    print(\"\\nClassification Report:\")\n",
    "    print(classification_report(y_test, y_pred))\n",
    "    \n",
    "    # Print confusion matrix\n",
    "    print(\"\\nConfusion Matrix:\")\n",
    "    print(confusion_matrix(y_test, y_pred))\n",
    "    print(\"\\n\")\n"
   ]
  },
  {
   "cell_type": "code",
   "execution_count": 17,
   "id": "a7305a1b",
   "metadata": {},
   "outputs": [
    {
     "name": "stdout",
     "output_type": "stream",
     "text": [
      "Model saved as xgboost_model.pkl\n"
     ]
    }
   ],
   "source": [
    "xgb_model = models[\"XGBoost\"]\n",
    "model_filename = 'xgboost_model.pkl'\n",
    "with open(model_filename, 'wb') as file:\n",
    "    pickle.dump(xgb_model, file)  # Save the trained XGBoost model\n",
    "print(f\"Model saved as {model_filename}\")"
   ]
  }
 ],
 "metadata": {
  "kernelspec": {
   "display_name": "Python 3 (ipykernel)",
   "language": "python",
   "name": "python3"
  },
  "language_info": {
   "codemirror_mode": {
    "name": "ipython",
    "version": 3
   },
   "file_extension": ".py",
   "mimetype": "text/x-python",
   "name": "python",
   "nbconvert_exporter": "python",
   "pygments_lexer": "ipython3",
   "version": "3.9.12"
  }
 },
 "nbformat": 4,
 "nbformat_minor": 5
}
